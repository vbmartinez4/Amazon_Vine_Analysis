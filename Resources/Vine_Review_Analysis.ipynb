{
 "cells": [
  {
   "cell_type": "code",
   "execution_count": 1,
   "id": "15d30d70",
   "metadata": {},
   "outputs": [],
   "source": [
    "# Import dependencies\n",
    "import pandas as pd"
   ]
  },
  {
   "cell_type": "code",
   "execution_count": 2,
   "id": "f3abb3c5",
   "metadata": {},
   "outputs": [
    {
     "data": {
      "text/html": [
       "<div>\n",
       "<style scoped>\n",
       "    .dataframe tbody tr th:only-of-type {\n",
       "        vertical-align: middle;\n",
       "    }\n",
       "\n",
       "    .dataframe tbody tr th {\n",
       "        vertical-align: top;\n",
       "    }\n",
       "\n",
       "    .dataframe thead th {\n",
       "        text-align: right;\n",
       "    }\n",
       "</style>\n",
       "<table border=\"1\" class=\"dataframe\">\n",
       "  <thead>\n",
       "    <tr style=\"text-align: right;\">\n",
       "      <th></th>\n",
       "      <th>review_id</th>\n",
       "      <th>star_rating</th>\n",
       "      <th>helpful_votes</th>\n",
       "      <th>total_votes</th>\n",
       "      <th>vine</th>\n",
       "      <th>verified_purchase</th>\n",
       "    </tr>\n",
       "  </thead>\n",
       "  <tbody>\n",
       "    <tr>\n",
       "      <th>0</th>\n",
       "      <td>R3I2DHQBR577SS</td>\n",
       "      <td>5.0</td>\n",
       "      <td>0.0</td>\n",
       "      <td>0.0</td>\n",
       "      <td>N</td>\n",
       "      <td>Y</td>\n",
       "    </tr>\n",
       "    <tr>\n",
       "      <th>1</th>\n",
       "      <td>R1QNE9NQFJC2Y4</td>\n",
       "      <td>5.0</td>\n",
       "      <td>0.0</td>\n",
       "      <td>0.0</td>\n",
       "      <td>N</td>\n",
       "      <td>Y</td>\n",
       "    </tr>\n",
       "    <tr>\n",
       "      <th>2</th>\n",
       "      <td>R3LIDG2Q4LJBAO</td>\n",
       "      <td>5.0</td>\n",
       "      <td>0.0</td>\n",
       "      <td>0.0</td>\n",
       "      <td>N</td>\n",
       "      <td>Y</td>\n",
       "    </tr>\n",
       "    <tr>\n",
       "      <th>3</th>\n",
       "      <td>R3KSZHPAEVPEAL</td>\n",
       "      <td>5.0</td>\n",
       "      <td>0.0</td>\n",
       "      <td>0.0</td>\n",
       "      <td>N</td>\n",
       "      <td>Y</td>\n",
       "    </tr>\n",
       "    <tr>\n",
       "      <th>4</th>\n",
       "      <td>RAI2OIG50KZ43</td>\n",
       "      <td>5.0</td>\n",
       "      <td>0.0</td>\n",
       "      <td>0.0</td>\n",
       "      <td>N</td>\n",
       "      <td>Y</td>\n",
       "    </tr>\n",
       "  </tbody>\n",
       "</table>\n",
       "</div>"
      ],
      "text/plain": [
       "        review_id  star_rating  helpful_votes  total_votes vine  \\\n",
       "0  R3I2DHQBR577SS          5.0            0.0          0.0    N   \n",
       "1  R1QNE9NQFJC2Y4          5.0            0.0          0.0    N   \n",
       "2  R3LIDG2Q4LJBAO          5.0            0.0          0.0    N   \n",
       "3  R3KSZHPAEVPEAL          5.0            0.0          0.0    N   \n",
       "4   RAI2OIG50KZ43          5.0            0.0          0.0    N   \n",
       "\n",
       "  verified_purchase  \n",
       "0                 Y  \n",
       "1                 Y  \n",
       "2                 Y  \n",
       "3                 Y  \n",
       "4                 Y  "
      ]
     },
     "execution_count": 2,
     "metadata": {},
     "output_type": "execute_result"
    }
   ],
   "source": [
    "# Read vine_table.csv in a new DataFrame.\n",
    "vine_df = pd.read_csv(\"vine_table.csv\")\n",
    "vine_df.head()"
   ]
  },
  {
   "cell_type": "code",
   "execution_count": 22,
   "id": "497be9cf",
   "metadata": {},
   "outputs": [
    {
     "data": {
      "text/plain": [
       "5115666"
      ]
     },
     "execution_count": 22,
     "metadata": {},
     "output_type": "execute_result"
    }
   ],
   "source": [
    "# Determine how many reviews there are in the dataset\n",
    "vine_df_count=len(vine_df)\n",
    "vine_df_count"
   ]
  },
  {
   "cell_type": "markdown",
   "id": "fae27142",
   "metadata": {},
   "source": [
    "# Deliverable 2: Determine Bias of Vine Reviews"
   ]
  },
  {
   "cell_type": "code",
   "execution_count": 4,
   "id": "e07dfbd1",
   "metadata": {},
   "outputs": [
    {
     "data": {
      "text/html": [
       "<div>\n",
       "<style scoped>\n",
       "    .dataframe tbody tr th:only-of-type {\n",
       "        vertical-align: middle;\n",
       "    }\n",
       "\n",
       "    .dataframe tbody tr th {\n",
       "        vertical-align: top;\n",
       "    }\n",
       "\n",
       "    .dataframe thead th {\n",
       "        text-align: right;\n",
       "    }\n",
       "</style>\n",
       "<table border=\"1\" class=\"dataframe\">\n",
       "  <thead>\n",
       "    <tr style=\"text-align: right;\">\n",
       "      <th></th>\n",
       "      <th>review_id</th>\n",
       "      <th>star_rating</th>\n",
       "      <th>helpful_votes</th>\n",
       "      <th>total_votes</th>\n",
       "      <th>vine</th>\n",
       "      <th>verified_purchase</th>\n",
       "    </tr>\n",
       "  </thead>\n",
       "  <tbody>\n",
       "    <tr>\n",
       "      <th>31</th>\n",
       "      <td>R2QRUE9REK8OUC</td>\n",
       "      <td>5.0</td>\n",
       "      <td>18.0</td>\n",
       "      <td>23.0</td>\n",
       "      <td>N</td>\n",
       "      <td>Y</td>\n",
       "    </tr>\n",
       "    <tr>\n",
       "      <th>102</th>\n",
       "      <td>R2POXRW6PXHXZG</td>\n",
       "      <td>5.0</td>\n",
       "      <td>25.0</td>\n",
       "      <td>30.0</td>\n",
       "      <td>N</td>\n",
       "      <td>Y</td>\n",
       "    </tr>\n",
       "    <tr>\n",
       "      <th>212</th>\n",
       "      <td>RZN43XRZ89IIJ</td>\n",
       "      <td>3.0</td>\n",
       "      <td>10.0</td>\n",
       "      <td>27.0</td>\n",
       "      <td>N</td>\n",
       "      <td>N</td>\n",
       "    </tr>\n",
       "    <tr>\n",
       "      <th>337</th>\n",
       "      <td>R29Q748WSHZ3SN</td>\n",
       "      <td>5.0</td>\n",
       "      <td>23.0</td>\n",
       "      <td>24.0</td>\n",
       "      <td>N</td>\n",
       "      <td>Y</td>\n",
       "    </tr>\n",
       "    <tr>\n",
       "      <th>357</th>\n",
       "      <td>R46UL5G5HEPRZ</td>\n",
       "      <td>5.0</td>\n",
       "      <td>18.0</td>\n",
       "      <td>20.0</td>\n",
       "      <td>N</td>\n",
       "      <td>N</td>\n",
       "    </tr>\n",
       "  </tbody>\n",
       "</table>\n",
       "</div>"
      ],
      "text/plain": [
       "          review_id  star_rating  helpful_votes  total_votes vine  \\\n",
       "31   R2QRUE9REK8OUC          5.0           18.0         23.0    N   \n",
       "102  R2POXRW6PXHXZG          5.0           25.0         30.0    N   \n",
       "212   RZN43XRZ89IIJ          3.0           10.0         27.0    N   \n",
       "337  R29Q748WSHZ3SN          5.0           23.0         24.0    N   \n",
       "357   R46UL5G5HEPRZ          5.0           18.0         20.0    N   \n",
       "\n",
       "    verified_purchase  \n",
       "31                  Y  \n",
       "102                 Y  \n",
       "212                 N  \n",
       "337                 Y  \n",
       "357                 N  "
      ]
     },
     "execution_count": 4,
     "metadata": {},
     "output_type": "execute_result"
    }
   ],
   "source": [
    "# Filter the data and create a new DataFrame or table to retrieve all the rows where the total_votes count \n",
    "# is equal to or greater than 20\n",
    "filtered_vine_data_df = vine_df[vine_df[\"total_votes\"]>=20]\n",
    "filtered_vine_data_df.head()"
   ]
  },
  {
   "cell_type": "code",
   "execution_count": 6,
   "id": "fb508ed5",
   "metadata": {},
   "outputs": [
    {
     "data": {
      "text/html": [
       "<div>\n",
       "<style scoped>\n",
       "    .dataframe tbody tr th:only-of-type {\n",
       "        vertical-align: middle;\n",
       "    }\n",
       "\n",
       "    .dataframe tbody tr th {\n",
       "        vertical-align: top;\n",
       "    }\n",
       "\n",
       "    .dataframe thead th {\n",
       "        text-align: right;\n",
       "    }\n",
       "</style>\n",
       "<table border=\"1\" class=\"dataframe\">\n",
       "  <thead>\n",
       "    <tr style=\"text-align: right;\">\n",
       "      <th></th>\n",
       "      <th>review_id</th>\n",
       "      <th>star_rating</th>\n",
       "      <th>helpful_votes</th>\n",
       "      <th>total_votes</th>\n",
       "      <th>vine</th>\n",
       "      <th>verified_purchase</th>\n",
       "    </tr>\n",
       "  </thead>\n",
       "  <tbody>\n",
       "    <tr>\n",
       "      <th>31</th>\n",
       "      <td>R2QRUE9REK8OUC</td>\n",
       "      <td>5.0</td>\n",
       "      <td>18.0</td>\n",
       "      <td>23.0</td>\n",
       "      <td>N</td>\n",
       "      <td>Y</td>\n",
       "    </tr>\n",
       "    <tr>\n",
       "      <th>102</th>\n",
       "      <td>R2POXRW6PXHXZG</td>\n",
       "      <td>5.0</td>\n",
       "      <td>25.0</td>\n",
       "      <td>30.0</td>\n",
       "      <td>N</td>\n",
       "      <td>Y</td>\n",
       "    </tr>\n",
       "    <tr>\n",
       "      <th>337</th>\n",
       "      <td>R29Q748WSHZ3SN</td>\n",
       "      <td>5.0</td>\n",
       "      <td>23.0</td>\n",
       "      <td>24.0</td>\n",
       "      <td>N</td>\n",
       "      <td>Y</td>\n",
       "    </tr>\n",
       "    <tr>\n",
       "      <th>357</th>\n",
       "      <td>R46UL5G5HEPRZ</td>\n",
       "      <td>5.0</td>\n",
       "      <td>18.0</td>\n",
       "      <td>20.0</td>\n",
       "      <td>N</td>\n",
       "      <td>N</td>\n",
       "    </tr>\n",
       "    <tr>\n",
       "      <th>386</th>\n",
       "      <td>R2UQHSNWU6WTZX</td>\n",
       "      <td>5.0</td>\n",
       "      <td>74.0</td>\n",
       "      <td>76.0</td>\n",
       "      <td>N</td>\n",
       "      <td>N</td>\n",
       "    </tr>\n",
       "  </tbody>\n",
       "</table>\n",
       "</div>"
      ],
      "text/plain": [
       "          review_id  star_rating  helpful_votes  total_votes vine  \\\n",
       "31   R2QRUE9REK8OUC          5.0           18.0         23.0    N   \n",
       "102  R2POXRW6PXHXZG          5.0           25.0         30.0    N   \n",
       "337  R29Q748WSHZ3SN          5.0           23.0         24.0    N   \n",
       "357   R46UL5G5HEPRZ          5.0           18.0         20.0    N   \n",
       "386  R2UQHSNWU6WTZX          5.0           74.0         76.0    N   \n",
       "\n",
       "    verified_purchase  \n",
       "31                  Y  \n",
       "102                 Y  \n",
       "337                 Y  \n",
       "357                 N  \n",
       "386                 N  "
      ]
     },
     "execution_count": 6,
     "metadata": {},
     "output_type": "execute_result"
    }
   ],
   "source": [
    "# Create a new DataFrame or table to retrieve all the rows where the number of helpful_votes divided by \n",
    "# total_votes is equal to or greater than 50%\n",
    "new_vine_data_df = filtered_vine_data_df.loc[filtered_vine_data_df.helpful_votes / filtered_vine_data_df.total_votes >= 0.5]\n",
    "new_vine_data_df.head()"
   ]
  },
  {
   "cell_type": "code",
   "execution_count": 23,
   "id": "879cb0be",
   "metadata": {},
   "outputs": [
    {
     "data": {
      "text/plain": [
       "74760"
      ]
     },
     "execution_count": 23,
     "metadata": {},
     "output_type": "execute_result"
    }
   ],
   "source": [
    "# With the filters in place, determine the new count of reviews in the dataset\n",
    "new_vine_data_count=len(new_vine_data_df)\n",
    "new_vine_data_count"
   ]
  },
  {
   "cell_type": "code",
   "execution_count": 7,
   "id": "a6ece475",
   "metadata": {},
   "outputs": [
    {
     "data": {
      "text/html": [
       "<div>\n",
       "<style scoped>\n",
       "    .dataframe tbody tr th:only-of-type {\n",
       "        vertical-align: middle;\n",
       "    }\n",
       "\n",
       "    .dataframe tbody tr th {\n",
       "        vertical-align: top;\n",
       "    }\n",
       "\n",
       "    .dataframe thead th {\n",
       "        text-align: right;\n",
       "    }\n",
       "</style>\n",
       "<table border=\"1\" class=\"dataframe\">\n",
       "  <thead>\n",
       "    <tr style=\"text-align: right;\">\n",
       "      <th></th>\n",
       "      <th>review_id</th>\n",
       "      <th>star_rating</th>\n",
       "      <th>helpful_votes</th>\n",
       "      <th>total_votes</th>\n",
       "      <th>vine</th>\n",
       "      <th>verified_purchase</th>\n",
       "    </tr>\n",
       "  </thead>\n",
       "  <tbody>\n",
       "    <tr>\n",
       "      <th>33773</th>\n",
       "      <td>R106V6GUNWRSSS</td>\n",
       "      <td>5.0</td>\n",
       "      <td>857.0</td>\n",
       "      <td>889.0</td>\n",
       "      <td>Y</td>\n",
       "      <td>N</td>\n",
       "    </tr>\n",
       "    <tr>\n",
       "      <th>38256</th>\n",
       "      <td>R37N8KZS48W36A</td>\n",
       "      <td>5.0</td>\n",
       "      <td>36.0</td>\n",
       "      <td>37.0</td>\n",
       "      <td>Y</td>\n",
       "      <td>N</td>\n",
       "    </tr>\n",
       "    <tr>\n",
       "      <th>58582</th>\n",
       "      <td>R1LNEQ2MQE03PD</td>\n",
       "      <td>5.0</td>\n",
       "      <td>49.0</td>\n",
       "      <td>66.0</td>\n",
       "      <td>Y</td>\n",
       "      <td>N</td>\n",
       "    </tr>\n",
       "    <tr>\n",
       "      <th>61695</th>\n",
       "      <td>R1ECPWPUNK36ES</td>\n",
       "      <td>5.0</td>\n",
       "      <td>29.0</td>\n",
       "      <td>31.0</td>\n",
       "      <td>Y</td>\n",
       "      <td>N</td>\n",
       "    </tr>\n",
       "    <tr>\n",
       "      <th>95790</th>\n",
       "      <td>R16BUM7UQZLOM6</td>\n",
       "      <td>3.0</td>\n",
       "      <td>107.0</td>\n",
       "      <td>112.0</td>\n",
       "      <td>Y</td>\n",
       "      <td>N</td>\n",
       "    </tr>\n",
       "  </tbody>\n",
       "</table>\n",
       "</div>"
      ],
      "text/plain": [
       "            review_id  star_rating  helpful_votes  total_votes vine  \\\n",
       "33773  R106V6GUNWRSSS          5.0          857.0        889.0    Y   \n",
       "38256  R37N8KZS48W36A          5.0           36.0         37.0    Y   \n",
       "58582  R1LNEQ2MQE03PD          5.0           49.0         66.0    Y   \n",
       "61695  R1ECPWPUNK36ES          5.0           29.0         31.0    Y   \n",
       "95790  R16BUM7UQZLOM6          3.0          107.0        112.0    Y   \n",
       "\n",
       "      verified_purchase  \n",
       "33773                 N  \n",
       "38256                 N  \n",
       "58582                 N  \n",
       "61695                 N  \n",
       "95790                 N  "
      ]
     },
     "execution_count": 7,
     "metadata": {},
     "output_type": "execute_result"
    }
   ],
   "source": [
    "# Create a new DataFrame or table that retrieves all the rows where a review was written as part of \n",
    "# the Vine program (paid), vine == 'Y'\n",
    "vine_paid_reviews_df = new_vine_data_df[new_vine_data_df[\"vine\"]==\"Y\"]\n",
    "vine_paid_reviews_df.head()"
   ]
  },
  {
   "cell_type": "code",
   "execution_count": 8,
   "id": "4c7d7099",
   "metadata": {},
   "outputs": [
    {
     "data": {
      "text/html": [
       "<div>\n",
       "<style scoped>\n",
       "    .dataframe tbody tr th:only-of-type {\n",
       "        vertical-align: middle;\n",
       "    }\n",
       "\n",
       "    .dataframe tbody tr th {\n",
       "        vertical-align: top;\n",
       "    }\n",
       "\n",
       "    .dataframe thead th {\n",
       "        text-align: right;\n",
       "    }\n",
       "</style>\n",
       "<table border=\"1\" class=\"dataframe\">\n",
       "  <thead>\n",
       "    <tr style=\"text-align: right;\">\n",
       "      <th></th>\n",
       "      <th>review_id</th>\n",
       "      <th>star_rating</th>\n",
       "      <th>helpful_votes</th>\n",
       "      <th>total_votes</th>\n",
       "      <th>vine</th>\n",
       "      <th>verified_purchase</th>\n",
       "    </tr>\n",
       "  </thead>\n",
       "  <tbody>\n",
       "    <tr>\n",
       "      <th>31</th>\n",
       "      <td>R2QRUE9REK8OUC</td>\n",
       "      <td>5.0</td>\n",
       "      <td>18.0</td>\n",
       "      <td>23.0</td>\n",
       "      <td>N</td>\n",
       "      <td>Y</td>\n",
       "    </tr>\n",
       "    <tr>\n",
       "      <th>102</th>\n",
       "      <td>R2POXRW6PXHXZG</td>\n",
       "      <td>5.0</td>\n",
       "      <td>25.0</td>\n",
       "      <td>30.0</td>\n",
       "      <td>N</td>\n",
       "      <td>Y</td>\n",
       "    </tr>\n",
       "    <tr>\n",
       "      <th>337</th>\n",
       "      <td>R29Q748WSHZ3SN</td>\n",
       "      <td>5.0</td>\n",
       "      <td>23.0</td>\n",
       "      <td>24.0</td>\n",
       "      <td>N</td>\n",
       "      <td>Y</td>\n",
       "    </tr>\n",
       "    <tr>\n",
       "      <th>357</th>\n",
       "      <td>R46UL5G5HEPRZ</td>\n",
       "      <td>5.0</td>\n",
       "      <td>18.0</td>\n",
       "      <td>20.0</td>\n",
       "      <td>N</td>\n",
       "      <td>N</td>\n",
       "    </tr>\n",
       "    <tr>\n",
       "      <th>386</th>\n",
       "      <td>R2UQHSNWU6WTZX</td>\n",
       "      <td>5.0</td>\n",
       "      <td>74.0</td>\n",
       "      <td>76.0</td>\n",
       "      <td>N</td>\n",
       "      <td>N</td>\n",
       "    </tr>\n",
       "  </tbody>\n",
       "</table>\n",
       "</div>"
      ],
      "text/plain": [
       "          review_id  star_rating  helpful_votes  total_votes vine  \\\n",
       "31   R2QRUE9REK8OUC          5.0           18.0         23.0    N   \n",
       "102  R2POXRW6PXHXZG          5.0           25.0         30.0    N   \n",
       "337  R29Q748WSHZ3SN          5.0           23.0         24.0    N   \n",
       "357   R46UL5G5HEPRZ          5.0           18.0         20.0    N   \n",
       "386  R2UQHSNWU6WTZX          5.0           74.0         76.0    N   \n",
       "\n",
       "    verified_purchase  \n",
       "31                  Y  \n",
       "102                 Y  \n",
       "337                 Y  \n",
       "357                 N  \n",
       "386                 N  "
      ]
     },
     "execution_count": 8,
     "metadata": {},
     "output_type": "execute_result"
    }
   ],
   "source": [
    "# Create a new DataFrame or table that retrieves all the rows where a review was not part of the\n",
    "# Vine program (unpaid), vine == 'N'.\n",
    "vine_unpaid_reviews_df = new_vine_data_df[new_vine_data_df[\"vine\"]==\"N\"]\n",
    "vine_unpaid_reviews_df.head()"
   ]
  },
  {
   "cell_type": "markdown",
   "id": "36c83b24",
   "metadata": {},
   "source": [
    "## 5-Star Reviews Analysis"
   ]
  },
  {
   "cell_type": "code",
   "execution_count": 11,
   "id": "a98f1799",
   "metadata": {},
   "outputs": [
    {
     "data": {
      "text/plain": [
       "647"
      ]
     },
     "execution_count": 11,
     "metadata": {},
     "output_type": "execute_result"
    }
   ],
   "source": [
    "# Determine the total number of paid reviews\n",
    "vine_paid_count = len(vine_paid_reviews_df)\n",
    "vine_paid_count"
   ]
  },
  {
   "cell_type": "code",
   "execution_count": 24,
   "id": "bda6079a",
   "metadata": {},
   "outputs": [
    {
     "data": {
      "text/plain": [
       "0.8654360620652755"
      ]
     },
     "execution_count": 24,
     "metadata": {},
     "output_type": "execute_result"
    }
   ],
   "source": [
    "vine_paid_percentage = (vine_paid_count/new_vine_data_count) *100\n",
    "vine_paid_percentage"
   ]
  },
  {
   "cell_type": "code",
   "execution_count": 12,
   "id": "459976e5",
   "metadata": {},
   "outputs": [
    {
     "data": {
      "text/plain": [
       "74113"
      ]
     },
     "execution_count": 12,
     "metadata": {},
     "output_type": "execute_result"
    }
   ],
   "source": [
    "# Determine the total number of unpaid reviews\n",
    "vine_unpaid_count = len(vine_unpaid_reviews_df)\n",
    "vine_unpaid_count"
   ]
  },
  {
   "cell_type": "code",
   "execution_count": 25,
   "id": "f0934680",
   "metadata": {},
   "outputs": [
    {
     "data": {
      "text/plain": [
       "99.13456393793473"
      ]
     },
     "execution_count": 25,
     "metadata": {},
     "output_type": "execute_result"
    }
   ],
   "source": [
    "vine_unpaid_percentage = (vine_unpaid_count/new_vine_data_count)*100\n",
    "vine_unpaid_percentage"
   ]
  },
  {
   "cell_type": "code",
   "execution_count": 14,
   "id": "a094b03a",
   "metadata": {},
   "outputs": [
    {
     "data": {
      "text/plain": [
       "229"
      ]
     },
     "execution_count": 14,
     "metadata": {},
     "output_type": "execute_result"
    }
   ],
   "source": [
    "# Determine the number of 5-star paid reviews\n",
    "five_star_paid_reviews = len(vine_paid_reviews_df[vine_paid_reviews_df[\"star_rating\"]==5])\n",
    "five_star_paid_reviews"
   ]
  },
  {
   "cell_type": "code",
   "execution_count": 16,
   "id": "3e626472",
   "metadata": {},
   "outputs": [
    {
     "data": {
      "text/plain": [
       "43217"
      ]
     },
     "execution_count": 16,
     "metadata": {},
     "output_type": "execute_result"
    }
   ],
   "source": [
    "# Determine the number of 5-star unpaid reviews\n",
    "five_star_unpaid_reviews = len(vine_unpaid_reviews_df[vine_unpaid_reviews_df[\"star_rating\"]==5])\n",
    "five_star_unpaid_reviews"
   ]
  },
  {
   "cell_type": "code",
   "execution_count": 18,
   "id": "f58cd838",
   "metadata": {},
   "outputs": [
    {
     "data": {
      "text/plain": [
       "35.394126738794434"
      ]
     },
     "execution_count": 18,
     "metadata": {},
     "output_type": "execute_result"
    }
   ],
   "source": [
    "# Percentage of 5-star paid reviews\n",
    "(five_star_paid_reviews/vine_paid_count)*100"
   ]
  },
  {
   "cell_type": "code",
   "execution_count": 19,
   "id": "b42c191d",
   "metadata": {},
   "outputs": [
    {
     "data": {
      "text/plain": [
       "58.312306882733125"
      ]
     },
     "execution_count": 19,
     "metadata": {},
     "output_type": "execute_result"
    }
   ],
   "source": [
    "# Percentage of 5-star unpaid reviews\n",
    "(five_star_unpaid_reviews/vine_unpaid_count)*100"
   ]
  },
  {
   "cell_type": "code",
   "execution_count": null,
   "id": "60dea853",
   "metadata": {},
   "outputs": [],
   "source": []
  }
 ],
 "metadata": {
  "kernelspec": {
   "display_name": "PythonData",
   "language": "python",
   "name": "pythondata"
  },
  "language_info": {
   "codemirror_mode": {
    "name": "ipython",
    "version": 3
   },
   "file_extension": ".py",
   "mimetype": "text/x-python",
   "name": "python",
   "nbconvert_exporter": "python",
   "pygments_lexer": "ipython3",
   "version": "3.7.13"
  }
 },
 "nbformat": 4,
 "nbformat_minor": 5
}
